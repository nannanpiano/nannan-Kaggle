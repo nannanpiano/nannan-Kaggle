{
 "cells": [
  {
   "cell_type": "code",
   "execution_count": 127,
   "id": "8b5ecb90",
   "metadata": {},
   "outputs": [
    {
     "name": "stdout",
     "output_type": "stream",
     "text": [
      "torch version: 2.5.1\n",
      "CUDA available: True\n"
     ]
    }
   ],
   "source": [
    "import numpy as np\n",
    "import pandas as pd\n",
    "import torch\n",
    "import torch.nn as nn\n",
    "from sklearn.model_selection import train_test_split  # 用于切分数据\n",
    "from sklearn.preprocessing import StandardScaler     # 用于数据标准化\n",
    "import torch.optim as optim\n",
    "\n",
    "print(\"torch version:\", torch.__version__)\n",
    "print(\"CUDA available:\", torch.cuda.is_available())\n"
   ]
  },
  {
   "cell_type": "markdown",
   "id": "69c9557a",
   "metadata": {},
   "source": [
    "极简读数据"
   ]
  },
  {
   "cell_type": "code",
   "execution_count": 128,
   "id": "61e4bf2e",
   "metadata": {},
   "outputs": [
    {
     "name": "stdout",
     "output_type": "stream",
     "text": [
      "[[1710    7    2]\n",
      " [1262    6    2]\n",
      " [1786    7    2]\n",
      " ...\n",
      " [2340    7    1]\n",
      " [1078    5    1]\n",
      " [1256    5    1]]\n",
      "[208500 181500 223500 ... 266500 142125 147500]\n",
      "X_tensor shape: torch.Size([1460, 3])\n",
      "y_tensor shape: torch.Size([1460, 1])\n"
     ]
    }
   ],
   "source": [
    "\n",
    "# 1. 读数据\n",
    "train = pd.read_csv(\"data/train.csv\")\n",
    "\n",
    "# 2. 只挑几个数值型特征（先简单）\n",
    "features = [\"GrLivArea\", \"OverallQual\", \"GarageCars\"]  # 居住面积、房屋质量、车库容量\n",
    "X = train[features].values\n",
    "y = train[\"SalePrice\"].values  \n",
    "# .values取出表格中的纯数据，变成一个NumPy数组\n",
    "print(X)\n",
    "print(y)\n",
    "\n",
    "# 3. 转换为 PyTorch 张量\n",
    "X_tensor = torch.tensor(X, dtype=torch.float32)\n",
    "y_tensor = torch.tensor(y, dtype=torch.float32).view(-1, 1)  # 调整成 (N,1) 形状\n",
    "                                                             # 也可以用.reshape(-1,1) 或 .unsqueeze(1)\n",
    "\n",
    "print(\"X_tensor shape:\", X_tensor.shape)\n",
    "print(\"y_tensor shape:\", y_tensor.shape)"
   ]
  },
  {
   "cell_type": "markdown",
   "id": "3a1818a8",
   "metadata": {},
   "source": [
    "建立一个简单模型"
   ]
  },
  {
   "cell_type": "code",
   "execution_count": 129,
   "id": "041a2243",
   "metadata": {},
   "outputs": [
    {
     "name": "stdout",
     "output_type": "stream",
     "text": [
      "Linear(in_features=3, out_features=1, bias=True)\n"
     ]
    }
   ],
   "source": [
    "# 输入特征数（我们之前选了3个：GrLivArea, OverallQual, GarageCars）\n",
    "input_dim = X_tensor.shape[1]\n",
    "output_dim = 1  # 预测 SalePrice 是单个值\n",
    "\n",
    "# 定义线性回归模型\n",
    "model = nn.Linear(input_dim, output_dim)\n",
    "\n",
    "print(model)"
   ]
  },
  {
   "cell_type": "markdown",
   "id": "9fa657a7",
   "metadata": {},
   "source": [
    "切分训练集和验证集，标准化特征"
   ]
  },
  {
   "cell_type": "code",
   "execution_count": null,
   "id": "04431ffe",
   "metadata": {},
   "outputs": [
    {
     "name": "stdout",
     "output_type": "stream",
     "text": [
      "原始 SalePrice 前 5 个: [208500 181500 223500 140000 250000]\n",
      "取对数后的前 5 个: [12.24769912 12.10901644 12.31717117 11.84940484 12.4292202 ]\n",
      "X_tr: torch.Size([1168, 3]) y_tr: torch.Size([1168, 1])\n",
      "X_val: torch.Size([292, 3]) y_val: torch.Size([292, 1])\n"
     ]
    }
   ],
   "source": [
    "# 1) 取出原始 X / y（沿用你前面挑的三个特征）\n",
    "features = [\"GrLivArea\", \"OverallQual\", \"GarageCars\"]\n",
    "X = train[features].values\n",
    "y = train[\"SalePrice\"].values\n",
    "\n",
    "# 对数变换（log1p 避免 log(0)）\n",
    "y_log = np.log1p(y)  # log1p就是log(1+x)\n",
    "print(\"原始 SalePrice 前 5 个:\", y[:5])\n",
    "print(\"取对数后的前 5 个:\", y_log[:5])\n",
    "\n",
    "# 2) 切分训练/验证集（例如 80%/20%）\n",
    "X_tr, X_val, y_tr, y_val = train_test_split(X, y, test_size=0.2, random_state=42)\n",
    "# random_state=42 固定随机种子，保证每次运行切分结果一致（可复现）\n",
    "\n",
    "\n",
    "# 3) 只用训练集拟合 StandardScaler，然后分别变换训练集与验证集\n",
    "scaler = StandardScaler()  # 创建一个标准化器对象。默认 with_mean=True, with_std=True，按列（特征维）做标准化\n",
    "X_tr = scaler.fit_transform(X_tr)\n",
    "# fit：只在训练集 X_tr 上计算每一列的 mean_ 与 scale_（等于标准差，sqrt(var_)）\n",
    "# 并存到对象里（属性：scaler.mean_, scaler.scale_）。\n",
    "# transform：用刚学到的 mean_ 和 scale_ 立刻把 X_tr 变换为标准化后的数据。\n",
    "# 合起来的 fit_transform：一步做完，返回的是已标准化的训练集（还是 NumPy 数组）\n",
    "\n",
    "X_val = scaler.transform(X_val)\n",
    "# 用训练集的均值与标准差把验证集做同样的线性变换，模拟真实部署场景。\n",
    "\n",
    "# 4) 转成张量\n",
    "X_tr = torch.tensor(X_tr, dtype=torch.float32)\n",
    "y_tr = torch.tensor(y_tr, dtype=torch.float32).reshape(-1, 1)\n",
    "X_val = torch.tensor(X_val, dtype=torch.float32)\n",
    "y_val = torch.tensor(y_val, dtype=torch.float32).reshape(-1, 1)\n",
    "\n",
    "print(\"X_tr:\", X_tr.shape, \"y_tr:\", y_tr.shape)\n",
    "print(\"X_val:\", X_val.shape, \"y_val:\", y_val.shape)"
   ]
  },
  {
   "cell_type": "markdown",
   "id": "d90ec86f",
   "metadata": {},
   "source": [
    "定义损失函数与优化器"
   ]
  },
  {
   "cell_type": "code",
   "execution_count": 131,
   "id": "594a43d3",
   "metadata": {},
   "outputs": [
    {
     "name": "stdout",
     "output_type": "stream",
     "text": [
      "MSELoss()\n",
      "Adam (\n",
      "Parameter Group 0\n",
      "    amsgrad: False\n",
      "    betas: (0.9, 0.999)\n",
      "    capturable: False\n",
      "    differentiable: False\n",
      "    eps: 1e-08\n",
      "    foreach: None\n",
      "    fused: None\n",
      "    lr: 0.01\n",
      "    maximize: False\n",
      "    weight_decay: 0\n",
      ")\n"
     ]
    }
   ],
   "source": [
    "# 损失函数：均方误差\n",
    "loss_func = nn.MSELoss()\n",
    "\n",
    "# 优化器：Adam\n",
    "optimizer = optim.Adam(model.parameters(), lr=0.01)\n",
    "\n",
    "print(loss_func)\n",
    "print(optimizer)"
   ]
  },
  {
   "cell_type": "markdown",
   "id": "5e325824",
   "metadata": {},
   "source": [
    "训练循环"
   ]
  },
  {
   "cell_type": "code",
   "execution_count": 132,
   "id": "2f707f53",
   "metadata": {},
   "outputs": [
    {
     "name": "stdout",
     "output_type": "stream",
     "text": [
      "Epoch [10/100], Loss: 38885494784.0000\n",
      "Epoch [20/100], Loss: 38885425152.0000\n",
      "Epoch [30/100], Loss: 38885359616.0000\n",
      "Epoch [40/100], Loss: 38885289984.0000\n",
      "Epoch [50/100], Loss: 38885216256.0000\n",
      "Epoch [60/100], Loss: 38885150720.0000\n",
      "Epoch [70/100], Loss: 38885081088.0000\n",
      "Epoch [80/100], Loss: 38885015552.0000\n",
      "Epoch [90/100], Loss: 38884941824.0000\n",
      "Epoch [100/100], Loss: 38884876288.0000\n"
     ]
    }
   ],
   "source": [
    "num_epochs = 100\n",
    "for epoch in range(num_epochs):\n",
    "    # 前向传播\n",
    "    y_pred = model(X_tr)\n",
    "    loss = loss_func(y_pred, y_tr)\n",
    "\n",
    "    # 反向传播 + 参数更新\n",
    "    optimizer.zero_grad()   # 梯度清零（否则会累积）\n",
    "    loss.backward()         # 反向传播\n",
    "    optimizer.step()        # 更新参数\n",
    "\n",
    "    # 每 10 轮打印一次训练损失\n",
    "    if (epoch+1) % 10 == 0:\n",
    "        print(f\"Epoch [{epoch+1}/{num_epochs}], Loss: {loss.item():.4f}\")"
   ]
  },
  {
   "cell_type": "markdown",
   "id": "a9c56e79",
   "metadata": {},
   "source": [
    "误差太大，重新定义模型和优化器"
   ]
  },
  {
   "cell_type": "code",
   "execution_count": 133,
   "id": "c4a0a66b",
   "metadata": {},
   "outputs": [
    {
     "name": "stdout",
     "output_type": "stream",
     "text": [
      "Epoch [20/100]  Train MSE: 38748897280.00\n",
      "Epoch [40/100]  Train MSE: 38096265216.00\n",
      "Epoch [60/100]  Train MSE: 36687028224.00\n",
      "Epoch [80/100]  Train MSE: 34448416768.00\n",
      "Epoch [100/100]  Train MSE: 31444934656.00\n",
      "Validation RMSE: 178298.41\n"
     ]
    }
   ],
   "source": [
    "# 1) 定义一个最小 MLP：输入 -> 隐藏层(32) -> ReLU -> 输出(1)\n",
    "input_dim = X_tr.shape[1]  # 目前是 3\n",
    "model = nn.Sequential(\n",
    "    nn.Linear(input_dim, 32),\n",
    "    nn.ReLU(),\n",
    "    nn.Linear(32, 1)\n",
    ")\n",
    "\n",
    "# 2) 损失函数 & 优化器（学习率调小一些，更稳）\n",
    "loss_func = nn.MSELoss()\n",
    "optimizer = optim.Adam(model.parameters(), lr=0.15)\n",
    "\n",
    "# 3) 训练循环（打印训练集 loss）\n",
    "num_epochs = 100\n",
    "for epoch in range(num_epochs):\n",
    "    model.train()\n",
    "    y_pred = model(X_tr)\n",
    "    loss = loss_func(y_pred, y_tr)\n",
    "\n",
    "    optimizer.zero_grad()\n",
    "    loss.backward()\n",
    "    optimizer.step()\n",
    "\n",
    "    if (epoch + 1) % 20 == 0:\n",
    "        print(f\"Epoch [{epoch+1}/{num_epochs}]  Train MSE: {loss.item():.2f}\")\n",
    "\n",
    "# 4) 简单验证：计算验证集的 RMSE（均方根误差）\n",
    "model.eval()\n",
    "with torch.no_grad():\n",
    "    y_val_pred = model(X_val)\n",
    "    val_mse = loss_func(y_val_pred, y_val).item()\n",
    "    val_rmse = val_mse ** 0.5\n",
    "print(f\"Validation RMSE: {val_rmse:.2f}\")"
   ]
  }
 ],
 "metadata": {
  "kernelspec": {
   "display_name": "aics",
   "language": "python",
   "name": "python3"
  },
  "language_info": {
   "codemirror_mode": {
    "name": "ipython",
    "version": 3
   },
   "file_extension": ".py",
   "mimetype": "text/x-python",
   "name": "python",
   "nbconvert_exporter": "python",
   "pygments_lexer": "ipython3",
   "version": "3.12.11"
  }
 },
 "nbformat": 4,
 "nbformat_minor": 5
}
