{
 "cells": [
  {
   "cell_type": "code",
   "execution_count": 222,
   "id": "ed27d19e",
   "metadata": {},
   "outputs": [
    {
     "name": "stdout",
     "output_type": "stream",
     "text": [
      "torch version: 2.5.1\n",
      "CUDA available: True\n"
     ]
    }
   ],
   "source": [
    "import numpy as np\n",
    "import pandas as pd\n",
    "import torch\n",
    "import torch.nn as nn\n",
    "from sklearn.model_selection import train_test_split  # 用于切分数据\n",
    "from sklearn.preprocessing import StandardScaler     # 用于数据标准化\n",
    "import torch.optim as optim\n",
    "from sklearn.impute import SimpleImputer   # 引入缺失值填充器\n",
    "\n",
    "print(\"torch version:\", torch.__version__)\n",
    "print(\"CUDA available:\", torch.cuda.is_available())"
   ]
  },
  {
   "cell_type": "code",
   "execution_count": 223,
   "id": "69917314",
   "metadata": {},
   "outputs": [
    {
     "name": "stdout",
     "output_type": "stream",
     "text": [
      "train shape: (1460, 81)\n",
      "columns count: 81\n",
      "SalePrice describe:\n",
      "count      1460.000000\n",
      "mean     180921.195890\n",
      "std       79442.502883\n",
      "min       34900.000000\n",
      "25%      129975.000000\n",
      "50%      163000.000000\n",
      "75%      214000.000000\n",
      "max      755000.000000\n",
      "Name: SalePrice, dtype: float64\n"
     ]
    }
   ],
   "source": [
    "# 1. 读数据\n",
    "train = pd.read_csv(\"data/train.csv\")\n",
    "\n",
    "# 2) 快速查看形状与列\n",
    "print(\"train shape:\", train.shape)       # 预期 (1460, 81)\n",
    "print(\"columns count:\", len(train.columns))\n",
    "\n",
    "# 3) 目标列与简单数值检查\n",
    "assert \"SalePrice\" in train.columns, \"找不到 SalePrice 列，请确认路径与文件。\"\n",
    "print(\"SalePrice describe:\")\n",
    "print(train[\"SalePrice\"].describe())"
   ]
  },
  {
   "cell_type": "code",
   "execution_count": 224,
   "id": "079e3f67",
   "metadata": {},
   "outputs": [
    {
     "name": "stdout",
     "output_type": "stream",
     "text": [
      "(1460,)\n"
     ]
    }
   ],
   "source": [
    "y = np.log1p(train['SalePrice'].values)\n",
    "print(y.shape)"
   ]
  },
  {
   "cell_type": "markdown",
   "id": "a96ace35",
   "metadata": {},
   "source": [
    "数值特征挑选"
   ]
  },
  {
   "cell_type": "code",
   "execution_count": 225,
   "id": "9b60ed73",
   "metadata": {},
   "outputs": [
    {
     "name": "stdout",
     "output_type": "stream",
     "text": [
      "数值特征数量: 36\n",
      "前 5 个数值特征: ['MSSubClass', 'LotFrontage', 'LotArea', 'OverallQual', 'OverallCond']\n",
      "X_df shape: (1460, 36)\n"
     ]
    }
   ],
   "source": [
    "# 选出数值型特征\n",
    "num_cols = train.select_dtypes(include='number').columns\n",
    "\n",
    "# 去掉目标列和 Id\n",
    "num_cols = num_cols.drop([\"SalePrice\"], errors=\"ignore\")\n",
    "num_cols = [c for c in num_cols if c.lower() != \"id\"]\n",
    "\n",
    "# 用这些数值特征建一个 DataFrame\n",
    "X_df = train[num_cols].copy()\n",
    "\n",
    "print(\"数值特征数量:\", len(num_cols))\n",
    "print(\"前 5 个数值特征:\", num_cols[:5])\n",
    "print(\"X_df shape:\", X_df.shape)"
   ]
  },
  {
   "cell_type": "markdown",
   "id": "b3ec377b",
   "metadata": {},
   "source": [
    "切分数据"
   ]
  },
  {
   "cell_type": "code",
   "execution_count": 226,
   "id": "6b3097f4",
   "metadata": {},
   "outputs": [
    {
     "name": "stdout",
     "output_type": "stream",
     "text": [
      "训练集形状: (1168, 36)\n",
      "验证集形状: (292, 36)\n",
      "训练集目标 shape: (1168,)\n",
      "验证集目标 shape: (292,)\n"
     ]
    }
   ],
   "source": [
    "\n",
    "X_tr_df, X_val_df, y_tr, y_val = train_test_split(\n",
    "    X_df, y, test_size=0.2, random_state=42\n",
    ")\n",
    "# 暂时保留DataFrame\n",
    "print(\"训练集形状:\", X_tr_df.shape)\n",
    "print(\"验证集形状:\", X_val_df.shape)\n",
    "print(\"训练集目标 shape:\", y_tr.shape)\n",
    "print(\"验证集目标 shape:\", y_val.shape)"
   ]
  },
  {
   "cell_type": "markdown",
   "id": "ef1d3ba5",
   "metadata": {},
   "source": [
    "缺失值填充"
   ]
  },
  {
   "cell_type": "code",
   "execution_count": 227,
   "id": "b3ce7606",
   "metadata": {},
   "outputs": [
    {
     "name": "stdout",
     "output_type": "stream",
     "text": [
      "填充后形状（训练/验证）: (1168, 36) (292, 36)\n",
      "训练集 NaN 数: 0\n",
      "验证集 NaN 数: 0\n"
     ]
    }
   ],
   "source": [
    "# 1) 用训练集拟合：每一列学到一个中位数\n",
    "imputer = SimpleImputer(strategy=\"median\")\n",
    "# 创建一个按列工作的填充器：把每一列中的NaN用该列的中位数替换\n",
    "# 中位数比均值更抗异常值\n",
    "# imputer.statistics_ 里会存放每列学到的“代表值”\n",
    "\n",
    "X_tr_imp = imputer.fit_transform(X_tr_df)   # 拟合+变换训练集\n",
    "# fit：只在训练集上计算每一列的“代表值”（这里是中位数）并存起来（避免数据泄露）。\n",
    "# transform：立刻用这些中位数把训练集里的 NaN 替换掉。\n",
    "# 返回的是 NumPy ndarray（不再保留列名），形状与原来一样\n",
    "\n",
    "X_val_imp = imputer.transform(X_val_df)     # 用同样的中位数变换验证集（避免数据泄露）\n",
    "\n",
    "print(\"填充后形状（训练/验证）:\", X_tr_imp.shape, X_val_imp.shape)\n",
    "# 确认行数、列数没变\n",
    "\n",
    "# 2) 简单检查：是否还存在 NaN\n",
    "n_tr_nan = np.isnan(X_tr_imp).sum()\n",
    "n_val_nan = np.isnan(X_val_imp).sum()\n",
    "# 用 np.isnan 统计剩余 NaN 的总数。\n",
    "\n",
    "print(\"训练集 NaN 数:\", n_tr_nan)\n",
    "print(\"验证集 NaN 数:\", n_val_nan)"
   ]
  },
  {
   "cell_type": "markdown",
   "id": "992badcc",
   "metadata": {},
   "source": [
    "标准化"
   ]
  },
  {
   "cell_type": "code",
   "execution_count": 228,
   "id": "7065be06",
   "metadata": {},
   "outputs": [
    {
     "name": "stdout",
     "output_type": "stream",
     "text": [
      "训练集均值（前 5 个特征）: [ 6.99592591e-17 -2.00752657e-16  2.28128019e-17 -5.17090176e-17\n",
      " -2.28128019e-16]\n",
      "训练集标准差（前 5 个特征）: [1. 1. 1. 1. 1.]\n"
     ]
    }
   ],
   "source": [
    "# 1) 用训练集拟合 scaler（学到均值和标准差）\n",
    "scaler = StandardScaler()\n",
    "X_tr_scaled = scaler.fit_transform(X_tr_imp)\n",
    "X_val_scaled = scaler.transform(X_val_imp)\n",
    "\n",
    "# 2) 打印检查\n",
    "print(\"训练集均值（前 5 个特征）:\", X_tr_scaled.mean(axis=0)[:5])\n",
    "print(\"训练集标准差（前 5 个特征）:\", X_tr_scaled.std(axis=0)[:5])"
   ]
  },
  {
   "cell_type": "markdown",
   "id": "9c8fccc2",
   "metadata": {},
   "source": [
    "将数据转为张量"
   ]
  },
  {
   "cell_type": "code",
   "execution_count": 229,
   "id": "553c5a7b",
   "metadata": {},
   "outputs": [
    {
     "name": "stdout",
     "output_type": "stream",
     "text": [
      "X_tr: torch.Size([1168, 36])   y_tr: torch.Size([1168, 1])\n",
      "X_val: torch.Size([292, 36])   y_val: torch.Size([292, 1])\n"
     ]
    }
   ],
   "source": [
    "# 1) 转为张量（float32）\n",
    "X_tr = torch.tensor(X_tr_scaled, dtype=torch.float32)\n",
    "X_val = torch.tensor(X_val_scaled, dtype=torch.float32)\n",
    "\n",
    "# 注意：y 是前面切分得到的 “log 房价” 数组\n",
    "y_tr_t = torch.tensor(y_tr, dtype=torch.float32).reshape(-1, 1)\n",
    "y_val_t = torch.tensor(y_val, dtype=torch.float32).reshape(-1, 1)\n",
    "\n",
    "# 2) 打印形状核对\n",
    "print(\"X_tr:\", X_tr.shape, \"  y_tr:\", y_tr_t.shape)\n",
    "print(\"X_val:\", X_val.shape, \"  y_val:\", y_val_t.shape)"
   ]
  },
  {
   "cell_type": "markdown",
   "id": "597081eb",
   "metadata": {},
   "source": [
    "定义网络"
   ]
  },
  {
   "cell_type": "code",
   "execution_count": 230,
   "id": "c4f6828d",
   "metadata": {},
   "outputs": [
    {
     "name": "stdout",
     "output_type": "stream",
     "text": [
      "Sequential(\n",
      "  (0): Linear(in_features=36, out_features=128, bias=True)\n",
      "  (1): Sigmoid()\n",
      "  (2): Linear(in_features=128, out_features=64, bias=True)\n",
      "  (3): ReLU()\n",
      "  (4): Linear(in_features=64, out_features=1, bias=True)\n",
      ")\n"
     ]
    }
   ],
   "source": [
    "input_dim = X_tr.shape[1]   # 36\n",
    "model = nn.Sequential(\n",
    "    nn.Linear(input_dim, 128),\n",
    "    nn.Sigmoid(),\n",
    "    nn.Linear(128, 64),\n",
    "    nn.ReLU(),\n",
    "    nn.Linear(64, 1)\n",
    ")\n",
    "\n",
    "print(model)\n"
   ]
  },
  {
   "cell_type": "markdown",
   "id": "956e4fef",
   "metadata": {},
   "source": [
    "选损失 & 优化器，并先训练 100 轮试水"
   ]
  },
  {
   "cell_type": "code",
   "execution_count": 231,
   "id": "a462ba13",
   "metadata": {},
   "outputs": [
    {
     "name": "stdout",
     "output_type": "stream",
     "text": [
      "Epoch [20/1000]  Train MSE(log): 79.1418\n",
      "Epoch [40/1000]  Train MSE(log): 18.8444\n",
      "Epoch [60/1000]  Train MSE(log): 0.0493\n",
      "Epoch [80/1000]  Train MSE(log): 0.2807\n",
      "Epoch [100/1000]  Train MSE(log): 0.0348\n",
      "Epoch [120/1000]  Train MSE(log): 0.0186\n",
      "Epoch [140/1000]  Train MSE(log): 0.0174\n",
      "Epoch [160/1000]  Train MSE(log): 0.0163\n",
      "Epoch [180/1000]  Train MSE(log): 0.0158\n",
      "Epoch [200/1000]  Train MSE(log): 0.0154\n",
      "Epoch [220/1000]  Train MSE(log): 0.0152\n",
      "Epoch [240/1000]  Train MSE(log): 0.0149\n",
      "Epoch [260/1000]  Train MSE(log): 0.0147\n",
      "Epoch [280/1000]  Train MSE(log): 0.0145\n",
      "Epoch [300/1000]  Train MSE(log): 0.0143\n",
      "Epoch [320/1000]  Train MSE(log): 0.0141\n",
      "Epoch [340/1000]  Train MSE(log): 0.0139\n",
      "Epoch [360/1000]  Train MSE(log): 0.0137\n",
      "Epoch [380/1000]  Train MSE(log): 0.0136\n",
      "Epoch [400/1000]  Train MSE(log): 0.0134\n",
      "Epoch [420/1000]  Train MSE(log): 0.0133\n",
      "Epoch [440/1000]  Train MSE(log): 0.0131\n",
      "Epoch [460/1000]  Train MSE(log): 0.0130\n",
      "Epoch [480/1000]  Train MSE(log): 0.0129\n",
      "Epoch [500/1000]  Train MSE(log): 0.0128\n",
      "Epoch [520/1000]  Train MSE(log): 0.0126\n",
      "Epoch [540/1000]  Train MSE(log): 0.0125\n",
      "Epoch [560/1000]  Train MSE(log): 0.0124\n",
      "Epoch [580/1000]  Train MSE(log): 0.0123\n",
      "Epoch [600/1000]  Train MSE(log): 0.0122\n",
      "Epoch [620/1000]  Train MSE(log): 0.0121\n",
      "Epoch [640/1000]  Train MSE(log): 0.0120\n",
      "Epoch [660/1000]  Train MSE(log): 0.0119\n",
      "Epoch [680/1000]  Train MSE(log): 0.0118\n",
      "Epoch [700/1000]  Train MSE(log): 0.0117\n",
      "Epoch [720/1000]  Train MSE(log): 0.0116\n",
      "Epoch [740/1000]  Train MSE(log): 0.0115\n",
      "Epoch [760/1000]  Train MSE(log): 0.0114\n",
      "Epoch [780/1000]  Train MSE(log): 0.0113\n",
      "Epoch [800/1000]  Train MSE(log): 0.0112\n",
      "Epoch [820/1000]  Train MSE(log): 0.0111\n",
      "Epoch [840/1000]  Train MSE(log): 0.0110\n",
      "Epoch [860/1000]  Train MSE(log): 0.0109\n",
      "Epoch [880/1000]  Train MSE(log): 0.0108\n",
      "Epoch [900/1000]  Train MSE(log): 0.0107\n",
      "Epoch [920/1000]  Train MSE(log): 0.0106\n",
      "Epoch [940/1000]  Train MSE(log): 0.0105\n",
      "Epoch [960/1000]  Train MSE(log): 0.0104\n",
      "Epoch [980/1000]  Train MSE(log): 0.0103\n",
      "Epoch [1000/1000]  Train MSE(log): 0.0102\n",
      "Validation RMSE (log space): 0.1399\n"
     ]
    }
   ],
   "source": [
    "# 1) 损失函数与优化器\n",
    "criterion = nn.MSELoss()\n",
    "optimizer = optim.Adam(model.parameters(), lr=1e-3)\n",
    "\n",
    "# 2) 训练循环（100 轮）\n",
    "num_epochs = 1000\n",
    "for epoch in range(num_epochs):\n",
    "    model.train()\n",
    "    y_pred = model(X_tr)            # 预测 log(SalePrice)\n",
    "    loss = criterion(y_pred, y_tr_t)\n",
    "\n",
    "    optimizer.zero_grad()\n",
    "    loss.backward()\n",
    "    optimizer.step()\n",
    "\n",
    "    if (epoch + 1) % 20 == 0:\n",
    "        print(f\"Epoch [{epoch+1}/{num_epochs}]  Train MSE(log): {loss.item():.4f}\")\n",
    "\n",
    "# 3) 验证：log-RMSE\n",
    "model.eval()\n",
    "with torch.no_grad():\n",
    "    val_pred_log = model(X_val)\n",
    "    val_mse_log = criterion(val_pred_log, y_val_t).item()\n",
    "    val_rmse_log = val_mse_log ** 0.5\n",
    "\n",
    "print(f\"Validation RMSE (log space): {val_rmse_log:.4f}\")"
   ]
  },
  {
   "cell_type": "markdown",
   "id": "a47dfca2",
   "metadata": {},
   "source": [
    "用全量训练集重拟合并训练最终模型"
   ]
  },
  {
   "cell_type": "code",
   "execution_count": 232,
   "id": "ec7f7d08",
   "metadata": {},
   "outputs": [],
   "source": [
    "# 重新取全量特征与目标\n",
    "y_all = np.log1p(train['SalePrice'].values)\n",
    "num_cols = train.select_dtypes(include='number').columns.drop(['SalePrice'], errors='ignore')\n",
    "num_cols = [c for c in num_cols if c.lower() != 'id']\n",
    "X_all_df = train[num_cols].copy()\n",
    "\n",
    "# 1) 重拟合缺失值填充与标准化（只在训练数据上）\n",
    "imputer = SimpleImputer(strategy=\"median\")\n",
    "scaler = StandardScaler()\n",
    "X_all_imp = imputer.fit_transform(X_all_df)\n",
    "X_all_scaled = scaler.fit_transform(X_all_imp)\n",
    "\n",
    "# 2) 训练最终模型（复用你已有的 model 定义）\n",
    "X_all = torch.tensor(X_all_scaled, dtype=torch.float32)\n",
    "y_all_t = torch.tensor(y_all, dtype=torch.float32).reshape(-1, 1)\n",
    "\n",
    "model = nn.Sequential(\n",
    "    nn.Linear(X_all.shape[1], 128),\n",
    "    nn.Sigmoid(),\n",
    "    nn.Linear(128, 64),\n",
    "    nn.ReLU(),\n",
    "    nn.Linear(64, 1)\n",
    ")\n",
    "criterion = nn.MSELoss()\n",
    "optimizer = optim.Adam(model.parameters(), lr=1e-3)\n",
    "\n",
    "for epoch in range(400):  # 先训练少一点轮次，跑通流程\n",
    "    model.train()\n",
    "    pred = model(X_all)\n",
    "    loss = criterion(pred, y_all_t)\n",
    "    optimizer.zero_grad(); loss.backward(); optimizer.step()\n"
   ]
  },
  {
   "cell_type": "markdown",
   "id": "88f8c4f9",
   "metadata": {},
   "source": [
    "生成提交文件submission.csv\n"
   ]
  },
  {
   "cell_type": "code",
   "execution_count": 233,
   "id": "da466d0f",
   "metadata": {},
   "outputs": [
    {
     "name": "stdout",
     "output_type": "stream",
     "text": [
      "     Id      SalePrice\n",
      "0  1461  120867.835938\n",
      "1  1462  168977.875000\n",
      "2  1463  177859.125000\n",
      "3  1464  197292.109375\n",
      "4  1465  175688.781250\n"
     ]
    }
   ],
   "source": [
    "# 1) 读取 test.csv 并用同样的列、同样的预处理\n",
    "test = pd.read_csv(\"data/test.csv\")\n",
    "X_test_df = test[num_cols].copy()                  # 确保列顺序与训练一致\n",
    "X_test_imp = imputer.transform(X_test_df)\n",
    "X_test_scaled = scaler.transform(X_test_imp)\n",
    "X_test = torch.tensor(X_test_scaled, dtype=torch.float32)\n",
    "\n",
    "# 2) 预测（log 空间）并反变换回价格\n",
    "model.eval()\n",
    "with torch.no_grad():\n",
    "    test_pred_log = model(X_test).numpy().reshape(-1)\n",
    "test_pred_price = np.expm1(test_pred_log)          # 关键：log1p 的逆变换\n",
    "\n",
    "# 3) 写提交文件（两列：Id, SalePrice；无索引）\n",
    "submission = pd.DataFrame({\n",
    "    \"Id\": test[\"Id\"], \n",
    "    \"SalePrice\": test_pred_price\n",
    "})\n",
    "submission.to_csv(\"submission.csv\", index=False)\n",
    "print(submission.head())\n"
   ]
  }
 ],
 "metadata": {
  "kernelspec": {
   "display_name": "aics",
   "language": "python",
   "name": "python3"
  },
  "language_info": {
   "codemirror_mode": {
    "name": "ipython",
    "version": 3
   },
   "file_extension": ".py",
   "mimetype": "text/x-python",
   "name": "python",
   "nbconvert_exporter": "python",
   "pygments_lexer": "ipython3",
   "version": "3.12.11"
  }
 },
 "nbformat": 4,
 "nbformat_minor": 5
}
