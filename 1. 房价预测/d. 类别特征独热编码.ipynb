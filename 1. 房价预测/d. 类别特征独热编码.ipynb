{
 "cells": [
  {
   "cell_type": "code",
   "execution_count": 2,
   "id": "78c4a16e",
   "metadata": {},
   "outputs": [
    {
     "name": "stdout",
     "output_type": "stream",
     "text": [
      "torch version: 2.5.1\n",
      "CUDA available: True\n"
     ]
    }
   ],
   "source": [
    "import numpy as np\n",
    "import pandas as pd\n",
    "import torch\n",
    "import torch.nn as nn\n",
    "from sklearn.model_selection import train_test_split  # 用于切分数据\n",
    "from sklearn.preprocessing import StandardScaler     # 用于数据标准化\n",
    "import torch.optim as optim\n",
    "from sklearn.impute import SimpleImputer   # 引入缺失值填充器\n",
    "\n",
    "print(\"torch version:\", torch.__version__)\n",
    "print(\"CUDA available:\", torch.cuda.is_available())"
   ]
  },
  {
   "cell_type": "code",
   "execution_count": 3,
   "id": "b94ad1ee",
   "metadata": {},
   "outputs": [],
   "source": [
    "train = pd.read_csv(\"data/train.csv\")"
   ]
  },
  {
   "cell_type": "code",
   "execution_count": 4,
   "id": "35f2ce70",
   "metadata": {},
   "outputs": [
    {
     "name": "stdout",
     "output_type": "stream",
     "text": [
      "类别特征数量: 43\n",
      "前 10 个类别特征: ['MSZoning', 'Street', 'Alley', 'LotShape', 'LandContour', 'Utilities', 'LotConfig', 'LandSlope', 'Neighborhood', 'Condition1']\n",
      "\n",
      "类别列基数 Top 10：\n",
      "Neighborhood    25\n",
      "Exterior2nd     16\n",
      "Exterior1st     15\n",
      "Condition1       9\n",
      "SaleType         9\n",
      "HouseStyle       8\n",
      "RoofMatl         8\n",
      "Condition2       8\n",
      "Functional       7\n",
      "BsmtFinType2     6\n",
      "dtype: int64\n",
      "\n",
      "类别列缺失值 Top 10：\n",
      "PoolQC          1453\n",
      "MiscFeature     1406\n",
      "Alley           1369\n",
      "Fence           1179\n",
      "MasVnrType       872\n",
      "FireplaceQu      690\n",
      "GarageFinish      81\n",
      "GarageQual        81\n",
      "GarageType        81\n",
      "GarageCond        81\n",
      "dtype: int64\n"
     ]
    }
   ],
   "source": [
    "# === STEP 1: 找出类别列，做基数与缺失检查 ===\n",
    "# 目标列仍然是 SalePrice（已在你代码中验证过存在）\n",
    "\n",
    "# 1) 识别类别列（object 或 category）\n",
    "cat_cols = train.select_dtypes(include=[\"object\", \"category\"]).columns.tolist()\n",
    "print(\"类别特征数量:\", len(cat_cols))\n",
    "print(\"前 10 个类别特征:\", cat_cols[:10])\n",
    "\n",
    "# 2) 看每个类别列的去重计数（基数）\n",
    "card = train[cat_cols].nunique().sort_values(ascending=False)\n",
    "print(\"\\n类别列基数 Top 10：\")\n",
    "print(card.head(10))\n",
    "\n",
    "# 3) 看类别列缺失值情况\n",
    "missing_cat = train[cat_cols].isna().sum().sort_values(ascending=False)\n",
    "print(\"\\n类别列缺失值 Top 10：\")\n",
    "print(missing_cat.head(10))\n",
    "\n"
   ]
  }
 ],
 "metadata": {
  "kernelspec": {
   "display_name": "aics",
   "language": "python",
   "name": "python3"
  },
  "language_info": {
   "codemirror_mode": {
    "name": "ipython",
    "version": 3
   },
   "file_extension": ".py",
   "mimetype": "text/x-python",
   "name": "python",
   "nbconvert_exporter": "python",
   "pygments_lexer": "ipython3",
   "version": "3.12.11"
  }
 },
 "nbformat": 4,
 "nbformat_minor": 5
}
